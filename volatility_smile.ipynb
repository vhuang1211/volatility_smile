{
 "cells": [
  {
   "cell_type": "code",
   "execution_count": 1,
   "id": "feda5385-1f97-43c7-b0fc-260ecb21c89f",
   "metadata": {
    "ExecuteTime": {
     "end_time": "2021-10-26T17:37:29.335517Z",
     "start_time": "2021-10-26T17:37:25.802647Z"
    },
    "execution": {
     "iopub.execute_input": "2021-10-24T17:00:38.746413Z",
     "iopub.status.busy": "2021-10-24T17:00:38.745416Z",
     "iopub.status.idle": "2021-10-24T17:00:40.203051Z",
     "shell.execute_reply": "2021-10-24T17:00:40.201512Z",
     "shell.execute_reply.started": "2021-10-24T17:00:38.746413Z"
    },
    "tags": []
   },
   "outputs": [],
   "source": [
    "import numpy as np\n",
    "import pandas as pd\n",
    "import math\n",
    "from scipy.stats import norm\n",
    "import matplotlib.pyplot as plt"
   ]
  },
  {
   "cell_type": "code",
   "execution_count": 2,
   "id": "d1cb7c63-bd74-48f3-afc5-84a9f125c06a",
   "metadata": {
    "ExecuteTime": {
     "end_time": "2021-10-26T17:37:29.403076Z",
     "start_time": "2021-10-26T17:37:29.363976Z"
    },
    "execution": {
     "iopub.execute_input": "2021-10-24T17:00:40.205060Z",
     "iopub.status.busy": "2021-10-24T17:00:40.205060Z",
     "iopub.status.idle": "2021-10-24T17:00:40.226793Z",
     "shell.execute_reply": "2021-10-24T17:00:40.225795Z",
     "shell.execute_reply.started": "2021-10-24T17:00:40.205060Z"
    },
    "tags": []
   },
   "outputs": [],
   "source": [
    "def BlackScholesModel(option_type, F, K, sigma, T, r):\n",
    "    d1 = (np.log(F *  np.exp(-r*T) / K) + (r + 0.5 * sigma**2)*T) / (sigma * np.sqrt(T))\n",
    "    d2 = d1 - (sigma * np.sqrt(T))\n",
    "    \n",
    "    C = F * np.exp(-r*T) * norm.cdf(d1) - K * np.exp(-r*T)*norm.cdf(d2)    \n",
    "    # using put-call parity to derive put option price\n",
    "    P = K * np.exp(-r * T) - F * np.exp(-r*T) + C\n",
    "    \n",
    "    if option_type == \"C\":\n",
    "        return max(C, 0)\n",
    "    elif option_type ==\"P\":\n",
    "        return max(P, 0)\n",
    "    else:\n",
    "        return \"Error\""
   ]
  },
  {
   "cell_type": "code",
   "execution_count": 3,
   "id": "71369025-a1ee-4705-bf9e-6a2811e86cdc",
   "metadata": {
    "ExecuteTime": {
     "end_time": "2021-10-26T17:37:29.455257Z",
     "start_time": "2021-10-26T17:37:29.433238Z"
    },
    "execution": {
     "iopub.execute_input": "2021-10-24T17:00:40.228788Z",
     "iopub.status.busy": "2021-10-24T17:00:40.228788Z",
     "iopub.status.idle": "2021-10-24T17:00:40.251613Z",
     "shell.execute_reply": "2021-10-24T17:00:40.247517Z",
     "shell.execute_reply.started": "2021-10-24T17:00:40.228788Z"
    },
    "tags": []
   },
   "outputs": [],
   "source": [
    "def Implied_Volatility(option_type, real_price, F, K, T, r):\n",
    "    # use bisection method to estimate implied volatility\n",
    "    epsilon = 0.0001 # minimum estimation error\n",
    "    volatility = 0.25 # initial guess of implied volatility\n",
    "    upper_range = 0.5\n",
    "    lower_range = 0\n",
    "    max_iters = 200\n",
    "    iters = 0\n",
    "    \n",
    "    while iters < max_iters:\n",
    "        bs_price = BlackScholesModel(option_type=option_type, F=F, K=K, sigma=volatility, T=T, r=r)\n",
    "        if abs(bs_price - real_price) < epsilon:\n",
    "            return volatility\n",
    "        if bs_price > real_price:\n",
    "            tmp = volatility\n",
    "            volatility = (volatility + lower_range)/2\n",
    "            upper_range = tmp\n",
    "        elif bs_price < real_price:\n",
    "            tmp = volatility\n",
    "            volatility = (volatility + upper_range)/2\n",
    "            lower_range = tmp\n",
    "        iters += 1\n",
    "\n",
    "    return volatility"
   ]
  },
  {
   "cell_type": "code",
   "execution_count": 4,
   "id": "3dd11f76-ba51-4a46-96be-48ae7934f995",
   "metadata": {
    "ExecuteTime": {
     "end_time": "2021-10-26T17:37:29.599668Z",
     "start_time": "2021-10-26T17:37:29.485336Z"
    },
    "execution": {
     "iopub.execute_input": "2021-10-24T17:00:40.255094Z",
     "iopub.status.busy": "2021-10-24T17:00:40.255094Z",
     "iopub.status.idle": "2021-10-24T17:00:40.310686Z",
     "shell.execute_reply": "2021-10-24T17:00:40.309581Z",
     "shell.execute_reply.started": "2021-10-24T17:00:40.255094Z"
    },
    "tags": []
   },
   "outputs": [
    {
     "data": {
      "text/html": [
       "<div>\n",
       "<style scoped>\n",
       "    .dataframe tbody tr th:only-of-type {\n",
       "        vertical-align: middle;\n",
       "    }\n",
       "\n",
       "    .dataframe tbody tr th {\n",
       "        vertical-align: top;\n",
       "    }\n",
       "\n",
       "    .dataframe thead th {\n",
       "        text-align: right;\n",
       "    }\n",
       "</style>\n",
       "<table border=\"1\" class=\"dataframe\">\n",
       "  <thead>\n",
       "    <tr style=\"text-align: right;\">\n",
       "      <th></th>\n",
       "      <th>台指期收盤價</th>\n",
       "      <th>履約價</th>\n",
       "      <th>無風險利率</th>\n",
       "      <th>到期天數</th>\n",
       "      <th>買權價格</th>\n",
       "      <th>賣權價格</th>\n",
       "    </tr>\n",
       "  </thead>\n",
       "  <tbody>\n",
       "    <tr>\n",
       "      <th>0</th>\n",
       "      <td>16882</td>\n",
       "      <td>16700</td>\n",
       "      <td>0.0023</td>\n",
       "      <td>0.019178</td>\n",
       "      <td>306.5</td>\n",
       "      <td>67.0</td>\n",
       "    </tr>\n",
       "    <tr>\n",
       "      <th>1</th>\n",
       "      <td>16882</td>\n",
       "      <td>16750</td>\n",
       "      <td>0.0023</td>\n",
       "      <td>0.019178</td>\n",
       "      <td>246.5</td>\n",
       "      <td>81.0</td>\n",
       "    </tr>\n",
       "    <tr>\n",
       "      <th>2</th>\n",
       "      <td>16882</td>\n",
       "      <td>16800</td>\n",
       "      <td>0.0023</td>\n",
       "      <td>0.019178</td>\n",
       "      <td>212.5</td>\n",
       "      <td>95.5</td>\n",
       "    </tr>\n",
       "    <tr>\n",
       "      <th>3</th>\n",
       "      <td>16882</td>\n",
       "      <td>16850</td>\n",
       "      <td>0.0023</td>\n",
       "      <td>0.019178</td>\n",
       "      <td>182.0</td>\n",
       "      <td>113.5</td>\n",
       "    </tr>\n",
       "    <tr>\n",
       "      <th>4</th>\n",
       "      <td>16882</td>\n",
       "      <td>16900</td>\n",
       "      <td>0.0023</td>\n",
       "      <td>0.019178</td>\n",
       "      <td>150.0</td>\n",
       "      <td>132.0</td>\n",
       "    </tr>\n",
       "    <tr>\n",
       "      <th>5</th>\n",
       "      <td>16882</td>\n",
       "      <td>16950</td>\n",
       "      <td>0.0023</td>\n",
       "      <td>0.019178</td>\n",
       "      <td>125.0</td>\n",
       "      <td>156.5</td>\n",
       "    </tr>\n",
       "    <tr>\n",
       "      <th>6</th>\n",
       "      <td>16882</td>\n",
       "      <td>17000</td>\n",
       "      <td>0.0023</td>\n",
       "      <td>0.019178</td>\n",
       "      <td>101.0</td>\n",
       "      <td>183.5</td>\n",
       "    </tr>\n",
       "    <tr>\n",
       "      <th>7</th>\n",
       "      <td>16882</td>\n",
       "      <td>17050</td>\n",
       "      <td>0.0023</td>\n",
       "      <td>0.019178</td>\n",
       "      <td>79.5</td>\n",
       "      <td>208.5</td>\n",
       "    </tr>\n",
       "  </tbody>\n",
       "</table>\n",
       "</div>"
      ],
      "text/plain": [
       "   台指期收盤價    履約價   無風險利率      到期天數   買權價格   賣權價格\n",
       "0   16882  16700  0.0023  0.019178  306.5   67.0\n",
       "1   16882  16750  0.0023  0.019178  246.5   81.0\n",
       "2   16882  16800  0.0023  0.019178  212.5   95.5\n",
       "3   16882  16850  0.0023  0.019178  182.0  113.5\n",
       "4   16882  16900  0.0023  0.019178  150.0  132.0\n",
       "5   16882  16950  0.0023  0.019178  125.0  156.5\n",
       "6   16882  17000  0.0023  0.019178  101.0  183.5\n",
       "7   16882  17050  0.0023  0.019178   79.5  208.5"
      ]
     },
     "execution_count": 4,
     "metadata": {},
     "output_type": "execute_result"
    }
   ],
   "source": [
    "F = [16882]*8\n",
    "K = [k for k in range(16700, 17051, 50)]\n",
    "r = [0.0023]*8\n",
    "T = [7/365]*8\n",
    "c_bid = np.array([275, 242, 210, 179, 149, 124, 100, 79])\n",
    "c_ask = np.array([338, 251, 215, 185, 151, 126, 102, 80])\n",
    "c_price = (c_bid + c_ask) / 2\n",
    "p_bid = np.array([66, 80, 95, 112, 131, 155, 181, 203])\n",
    "p_ask = np.array([68, 82, 96, 115, 133, 158, 186, 214])\n",
    "p_price = (p_bid + p_ask) / 2\n",
    "\n",
    "data = pd.DataFrame({\n",
    "    \"台指期收盤價\":F,\n",
    "    \"履約價\":K,\n",
    "    \"無風險利率\":r,\n",
    "    \"到期天數\":T,\n",
    "    \"買權價格\":c_price,\n",
    "    \"賣權價格\":p_price\n",
    "})\n",
    "\n",
    "data"
   ]
  },
  {
   "cell_type": "code",
   "execution_count": 5,
   "id": "f75847d6-ceb9-47f7-aa03-aaa35a7eef0c",
   "metadata": {
    "ExecuteTime": {
     "end_time": "2021-10-26T17:37:29.754566Z",
     "start_time": "2021-10-26T17:37:29.657474Z"
    },
    "execution": {
     "iopub.execute_input": "2021-10-24T17:00:40.314130Z",
     "iopub.status.busy": "2021-10-24T17:00:40.313937Z",
     "iopub.status.idle": "2021-10-24T17:00:40.417157Z",
     "shell.execute_reply": "2021-10-24T17:00:40.414377Z",
     "shell.execute_reply.started": "2021-10-24T17:00:40.314130Z"
    },
    "tags": []
   },
   "outputs": [],
   "source": [
    "data[\"買權隱含波動度\"] = data.apply(lambda row: Implied_Volatility(option_type=\"C\", real_price=row[\"買權價格\"], F=row[\"台指期收盤價\"], K=row[\"履約價\"], T=row[\"到期天數\"], r=row[\"無風險利率\"]), axis = 1)"
   ]
  },
  {
   "cell_type": "code",
   "execution_count": 6,
   "id": "945324b7-3a2a-40eb-8fa5-ec813c72d78a",
   "metadata": {
    "ExecuteTime": {
     "end_time": "2021-10-26T17:37:30.004617Z",
     "start_time": "2021-10-26T17:37:29.811969Z"
    },
    "execution": {
     "iopub.execute_input": "2021-10-24T17:00:40.421412Z",
     "iopub.status.busy": "2021-10-24T17:00:40.420150Z",
     "iopub.status.idle": "2021-10-24T17:00:40.510030Z",
     "shell.execute_reply": "2021-10-24T17:00:40.510030Z",
     "shell.execute_reply.started": "2021-10-24T17:00:40.421412Z"
    },
    "tags": []
   },
   "outputs": [],
   "source": [
    "data[\"賣權隱含波動度\"] = data.apply(lambda row: Implied_Volatility(option_type=\"P\", real_price=row[\"賣權價格\"], F=row[\"台指期收盤價\"], K=row[\"履約價\"], T=row[\"到期天數\"], r=row[\"無風險利率\"]), axis = 1)"
   ]
  },
  {
   "cell_type": "code",
   "execution_count": 7,
   "id": "ad317546-3693-4180-8829-c0e033f35730",
   "metadata": {
    "ExecuteTime": {
     "end_time": "2021-10-26T17:37:30.114163Z",
     "start_time": "2021-10-26T17:37:30.062677Z"
    },
    "execution": {
     "iopub.execute_input": "2021-10-24T17:00:40.512163Z",
     "iopub.status.busy": "2021-10-24T17:00:40.511130Z",
     "iopub.status.idle": "2021-10-24T17:00:40.529210Z",
     "shell.execute_reply": "2021-10-24T17:00:40.528337Z",
     "shell.execute_reply.started": "2021-10-24T17:00:40.512163Z"
    },
    "tags": []
   },
   "outputs": [
    {
     "data": {
      "text/html": [
       "<div>\n",
       "<style scoped>\n",
       "    .dataframe tbody tr th:only-of-type {\n",
       "        vertical-align: middle;\n",
       "    }\n",
       "\n",
       "    .dataframe tbody tr th {\n",
       "        vertical-align: top;\n",
       "    }\n",
       "\n",
       "    .dataframe thead th {\n",
       "        text-align: right;\n",
       "    }\n",
       "</style>\n",
       "<table border=\"1\" class=\"dataframe\">\n",
       "  <thead>\n",
       "    <tr style=\"text-align: right;\">\n",
       "      <th></th>\n",
       "      <th>台指期收盤價</th>\n",
       "      <th>履約價</th>\n",
       "      <th>無風險利率</th>\n",
       "      <th>到期天數</th>\n",
       "      <th>買權價格</th>\n",
       "      <th>賣權價格</th>\n",
       "      <th>買權隱含波動度</th>\n",
       "      <th>賣權隱含波動度</th>\n",
       "    </tr>\n",
       "  </thead>\n",
       "  <tbody>\n",
       "    <tr>\n",
       "      <th>0</th>\n",
       "      <td>16882</td>\n",
       "      <td>16700</td>\n",
       "      <td>0.0023</td>\n",
       "      <td>0.019178</td>\n",
       "      <td>306.5</td>\n",
       "      <td>67.0</td>\n",
       "      <td>0.218456</td>\n",
       "      <td>0.150410</td>\n",
       "    </tr>\n",
       "    <tr>\n",
       "      <th>1</th>\n",
       "      <td>16882</td>\n",
       "      <td>16750</td>\n",
       "      <td>0.0023</td>\n",
       "      <td>0.019178</td>\n",
       "      <td>246.5</td>\n",
       "      <td>81.0</td>\n",
       "      <td>0.185720</td>\n",
       "      <td>0.147473</td>\n",
       "    </tr>\n",
       "    <tr>\n",
       "      <th>2</th>\n",
       "      <td>16882</td>\n",
       "      <td>16800</td>\n",
       "      <td>0.0023</td>\n",
       "      <td>0.019178</td>\n",
       "      <td>212.5</td>\n",
       "      <td>95.5</td>\n",
       "      <td>0.180934</td>\n",
       "      <td>0.142396</td>\n",
       "    </tr>\n",
       "    <tr>\n",
       "      <th>3</th>\n",
       "      <td>16882</td>\n",
       "      <td>16850</td>\n",
       "      <td>0.0023</td>\n",
       "      <td>0.019178</td>\n",
       "      <td>182.0</td>\n",
       "      <td>113.5</td>\n",
       "      <td>0.177634</td>\n",
       "      <td>0.138307</td>\n",
       "    </tr>\n",
       "    <tr>\n",
       "      <th>4</th>\n",
       "      <td>16882</td>\n",
       "      <td>16900</td>\n",
       "      <td>0.0023</td>\n",
       "      <td>0.019178</td>\n",
       "      <td>150.0</td>\n",
       "      <td>132.0</td>\n",
       "      <td>0.170221</td>\n",
       "      <td>0.131590</td>\n",
       "    </tr>\n",
       "    <tr>\n",
       "      <th>5</th>\n",
       "      <td>16882</td>\n",
       "      <td>16950</td>\n",
       "      <td>0.0023</td>\n",
       "      <td>0.019178</td>\n",
       "      <td>125.0</td>\n",
       "      <td>156.5</td>\n",
       "      <td>0.167635</td>\n",
       "      <td>0.127804</td>\n",
       "    </tr>\n",
       "    <tr>\n",
       "      <th>6</th>\n",
       "      <td>16882</td>\n",
       "      <td>17000</td>\n",
       "      <td>0.0023</td>\n",
       "      <td>0.019178</td>\n",
       "      <td>101.0</td>\n",
       "      <td>183.5</td>\n",
       "      <td>0.163272</td>\n",
       "      <td>0.122878</td>\n",
       "    </tr>\n",
       "    <tr>\n",
       "      <th>7</th>\n",
       "      <td>16882</td>\n",
       "      <td>17050</td>\n",
       "      <td>0.0023</td>\n",
       "      <td>0.019178</td>\n",
       "      <td>79.5</td>\n",
       "      <td>208.5</td>\n",
       "      <td>0.158587</td>\n",
       "      <td>0.110470</td>\n",
       "    </tr>\n",
       "  </tbody>\n",
       "</table>\n",
       "</div>"
      ],
      "text/plain": [
       "   台指期收盤價    履約價   無風險利率      到期天數   買權價格   賣權價格   買權隱含波動度   賣權隱含波動度\n",
       "0   16882  16700  0.0023  0.019178  306.5   67.0  0.218456  0.150410\n",
       "1   16882  16750  0.0023  0.019178  246.5   81.0  0.185720  0.147473\n",
       "2   16882  16800  0.0023  0.019178  212.5   95.5  0.180934  0.142396\n",
       "3   16882  16850  0.0023  0.019178  182.0  113.5  0.177634  0.138307\n",
       "4   16882  16900  0.0023  0.019178  150.0  132.0  0.170221  0.131590\n",
       "5   16882  16950  0.0023  0.019178  125.0  156.5  0.167635  0.127804\n",
       "6   16882  17000  0.0023  0.019178  101.0  183.5  0.163272  0.122878\n",
       "7   16882  17050  0.0023  0.019178   79.5  208.5  0.158587  0.110470"
      ]
     },
     "execution_count": 7,
     "metadata": {},
     "output_type": "execute_result"
    }
   ],
   "source": [
    "data"
   ]
  },
  {
   "cell_type": "code",
   "execution_count": 8,
   "id": "76f78ac8-dc38-4b71-81a4-ee1c2606572b",
   "metadata": {
    "ExecuteTime": {
     "end_time": "2021-10-26T17:37:30.444383Z",
     "start_time": "2021-10-26T17:37:30.423351Z"
    },
    "execution": {
     "iopub.execute_input": "2021-10-24T17:00:40.530208Z",
     "iopub.status.busy": "2021-10-24T17:00:40.530208Z",
     "iopub.status.idle": "2021-10-24T17:00:40.549619Z",
     "shell.execute_reply": "2021-10-24T17:00:40.547520Z",
     "shell.execute_reply.started": "2021-10-24T17:00:40.530208Z"
    },
    "tags": []
   },
   "outputs": [
    {
     "data": {
      "text/plain": [
       "207.19944282795677"
      ]
     },
     "execution_count": 8,
     "metadata": {},
     "output_type": "execute_result"
    }
   ],
   "source": [
    "BlackScholesModel(\"P\", 16882, 17000, 0.15, 7/365, 0.0023)"
   ]
  },
  {
   "cell_type": "code",
   "execution_count": 9,
   "id": "b40e13ed-fd4d-438e-9852-7332358d1cda",
   "metadata": {
    "ExecuteTime": {
     "end_time": "2021-10-26T17:37:32.409274Z",
     "start_time": "2021-10-26T17:37:31.874956Z"
    },
    "execution": {
     "iopub.execute_input": "2021-10-24T17:07:28.745311Z",
     "iopub.status.busy": "2021-10-24T17:07:28.744312Z",
     "iopub.status.idle": "2021-10-24T17:07:29.149132Z",
     "shell.execute_reply": "2021-10-24T17:07:29.148350Z",
     "shell.execute_reply.started": "2021-10-24T17:07:28.745311Z"
    },
    "tags": []
   },
   "outputs": [
    {
     "data": {
      "image/png": "[encoded data removed]",
      "text/plain": [
       "<Figure size 648x432 with 1 Axes>"
      ]
     },
     "metadata": {
      "needs_background": "light"
     },
     "output_type": "display_data"
    }
   ],
   "source": [
    "plt.figure(figsize=(9, 6))\n",
    "plt.plot(data[\"履約價\"], data[\"買權隱含波動度\"], c=\"darkblue\", linewidth=2.5)\n",
    "plt.tick_params(axis='both', labelsize=13)\n",
    "plt.xlabel(\"Strike Price (K)\", fontsize=14)\n",
    "plt.legend([\"Implied Volatility of Call Options\"], fontsize=14)\n",
    "plt.savefig('Implied Volatility of Call Options.png', dpi=72)"
   ]
  },
  {
   "cell_type": "code",
   "execution_count": 10,
   "id": "fe901c3c-9817-4a3f-9199-a0a73f044a83",
   "metadata": {
    "ExecuteTime": {
     "end_time": "2021-10-26T17:37:33.135727Z",
     "start_time": "2021-10-26T17:37:32.668859Z"
    },
    "execution": {
     "iopub.execute_input": "2021-10-24T17:07:38.020216Z",
     "iopub.status.busy": "2021-10-24T17:07:38.020216Z",
     "iopub.status.idle": "2021-10-24T17:07:38.538463Z",
     "shell.execute_reply": "2021-10-24T17:07:38.537212Z",
     "shell.execute_reply.started": "2021-10-24T17:07:38.020216Z"
    },
    "tags": []
   },
   "outputs": [
    {
     "data": {
      "image/png": "[encoded data removed]",
      "text/plain": [
       "<Figure size 648x432 with 1 Axes>"
      ]
     },
     "metadata": {
      "needs_background": "light"
     },
     "output_type": "display_data"
    }
   ],
   "source": [
    "plt.figure(figsize=(9, 6))\n",
    "plt.plot(data[\"履約價\"], data[\"賣權隱含波動度\"], c=\"darkorange\", linewidth=2.5)\n",
    "plt.tick_params(axis='both', labelsize=13)\n",
    "plt.xlabel(\"Strike Price (K)\", fontsize=14)\n",
    "plt.ylim(0.1, 0.16)\n",
    "plt.legend([\"Implied Volatility of Put Options\"], fontsize=14)\n",
    "plt.savefig('Implied Volatility of Put Options.png', dpi=72)"
   ]
  },
  {
   "cell_type": "code",
   "execution_count": 12,
   "id": "ba1aee00-3c4a-49db-bf1a-d67405207b74",
   "metadata": {
    "ExecuteTime": {
     "end_time": "2021-10-26T17:37:58.887940Z",
     "start_time": "2021-10-26T17:37:58.402545Z"
    }
   },
   "outputs": [
    {
     "data": {
      "image/png": "[encoded data removed]",
      "text/plain": [
       "<Figure size 648x432 with 1 Axes>"
      ]
     },
     "metadata": {
      "needs_background": "light"
     },
     "output_type": "display_data"
    }
   ],
   "source": [
    "plt.figure(figsize=(9, 6))\n",
    "plt.plot(data[\"履約價\"], data[\"買權隱含波動度\"], c=\"darkblue\", linewidth=2.5)\n",
    "plt.plot(data[\"履約價\"], data[\"賣權隱含波動度\"], c=\"darkorange\", linewidth=2.5)\n",
    "plt.tick_params(axis='both', labelsize=13)\n",
    "plt.xlabel(\"Strike Price (K)\", fontsize=14)\n",
    "plt.legend([\"Implied Volatility of Put Options\"], fontsize=14)\n",
    "plt.savefig('Implied Volatility of Put Options.png', dpi=72)"
   ]
  },
  {
   "cell_type": "code",
   "execution_count": null,
   "id": "865909fd-316f-4eff-8080-b9bd91ef031b",
   "metadata": {},
   "outputs": [],
   "source": []
  }
 ],
 "metadata": {
  "interpreter": {
   "hash": "0aded27ab206dbbdaafdede59c340900fe422007189fb3440562c4885850d4b1"
  },
  "kernelspec": {
   "display_name": "Python 3 (ipykernel)",
   "language": "python",
   "name": "python3"
  },
  "language_info": {
   "codemirror_mode": {
    "name": "ipython",
    "version": 3
   },
   "file_extension": ".py",
   "mimetype": "text/x-python",
   "name": "python",
   "nbconvert_exporter": "python",
   "pygments_lexer": "ipython3",
   "version": "3.7.8"
  },
  "varInspector": {
   "cols": {
    "lenName": 16,
    "lenType": 16,
    "lenVar": 40
   },
   "kernels_config": {
    "python": {
     "delete_cmd_postfix": "",
     "delete_cmd_prefix": "del ",
     "library": "var_list.py",
     "varRefreshCmd": "print(var_dic_list())"
    },
    "r": {
     "delete_cmd_postfix": ") ",
     "delete_cmd_prefix": "rm(",
     "library": "var_list.r",
     "varRefreshCmd": "cat(var_dic_list()) "
    }
   },
   "types_to_exclude": [
    "module",
    "function",
    "builtin_function_or_method",
    "instance",
    "_Feature"
   ],
   "window_display": false
  }
 },
 "nbformat": 4,
 "nbformat_minor": 5
}
